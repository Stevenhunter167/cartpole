{
 "metadata": {
  "language_info": {
   "codemirror_mode": {
    "name": "ipython",
    "version": 3
   },
   "file_extension": ".py",
   "mimetype": "text/x-python",
   "name": "python",
   "nbconvert_exporter": "python",
   "pygments_lexer": "ipython3",
   "version": "3.8.4-final"
  },
  "orig_nbformat": 2,
  "kernelspec": {
   "name": "Python 3.8.4 64-bit",
   "display_name": "Python 3.8.4 64-bit",
   "metadata": {
    "interpreter": {
     "hash": "95ab7303ed2746327945aa376054eddca8c4eca362915ff95db932dbe7e7ee41"
    }
   }
  }
 },
 "nbformat": 4,
 "nbformat_minor": 2,
 "cells": [
  {
   "cell_type": "code",
   "execution_count": 1,
   "metadata": {},
   "outputs": [
    {
     "output_type": "execute_result",
     "data": {
      "text/plain": [
       "[PhysicalDevice(name='/physical_device:GPU:0', device_type='GPU')]"
      ]
     },
     "metadata": {},
     "execution_count": 1
    }
   ],
   "source": [
    "import tensorflow as tf\n",
    "import numpy as np\n",
    "tf.config.list_physical_devices('GPU')"
   ]
  },
  {
   "cell_type": "code",
   "execution_count": 2,
   "metadata": {},
   "outputs": [
    {
     "output_type": "stream",
     "name": "stdout",
     "text": [
      "[[1. 2. 3. 4.]\n [5. 6. 7. 8.]\n [1. 4. 6. 7.]]\n[0 1 2]\n"
     ]
    }
   ],
   "source": [
    "xinput = np.array([[1,2,3,4],[5,6,7,8],[1,4,6,7]], dtype=np.float)\n",
    "yinput = np.array([0, 1, 2])\n",
    "print(xinput)\n",
    "print(yinput)"
   ]
  },
  {
   "cell_type": "code",
   "execution_count": 3,
   "metadata": {},
   "outputs": [],
   "source": [
    "model = tf.keras.Sequential([\n",
    "    tf.keras.layers.Dense(4, input_shape=(4,), activation='relu'),\n",
    "    tf.keras.layers.Dense(4, activation='relu'),\n",
    "    tf.keras.layers.Dense(3)\n",
    "])\n",
    "loss_fn = tf.keras.losses.SparseCategoricalCrossentropy(from_logits=True)\n",
    "optimizer = tf.keras.optimizers.Adam(\n",
    "    learning_rate=0.01, beta_1=0.9, beta_2=0.999, epsilon=1e-07, amsgrad=False,\n",
    "    name='Adam'\n",
    ")\n",
    "model.compile(optimizer=optimizer,\n",
    "              loss=loss_fn,\n",
    "              metrics='acc')"
   ]
  },
  {
   "cell_type": "code",
   "execution_count": 4,
   "metadata": {},
   "outputs": [
    {
     "output_type": "stream",
     "name": "stdout",
     "text": [
      "Model: \"sequential\"\n_________________________________________________________________\nLayer (type)                 Output Shape              Param #   \n=================================================================\ndense (Dense)                (None, 4)                 20        \n_________________________________________________________________\ndense_1 (Dense)              (None, 4)                 20        \n_________________________________________________________________\ndense_2 (Dense)              (None, 3)                 15        \n=================================================================\nTotal params: 55\nTrainable params: 55\nNon-trainable params: 0\n_________________________________________________________________\nNone\n"
     ]
    }
   ],
   "source": [
    "print(model.summary())"
   ]
  },
  {
   "cell_type": "code",
   "execution_count": 5,
   "metadata": {},
   "outputs": [
    {
     "output_type": "stream",
     "name": "stdout",
     "text": [
      "Epoch 1/50\n",
      "3/3 [==============================] - 0s 3ms/step - loss: 1.1787 - acc: 0.3333\n",
      "Epoch 2/50\n",
      "3/3 [==============================] - 0s 3ms/step - loss: 1.1427 - acc: 0.3333\n",
      "Epoch 3/50\n",
      "3/3 [==============================] - 0s 3ms/step - loss: 1.1385 - acc: 0.3333\n",
      "Epoch 4/50\n",
      "3/3 [==============================] - 0s 3ms/step - loss: 1.1282 - acc: 0.3333\n",
      "Epoch 5/50\n",
      "3/3 [==============================] - 0s 3ms/step - loss: 1.1173 - acc: 0.3333\n",
      "Epoch 6/50\n",
      "3/3 [==============================] - 0s 3ms/step - loss: 1.1150 - acc: 0.3333\n",
      "Epoch 7/50\n",
      "3/3 [==============================] - 0s 3ms/step - loss: 1.1120 - acc: 0.0000e+00\n",
      "Epoch 8/50\n",
      "3/3 [==============================] - 0s 3ms/step - loss: 1.1032 - acc: 0.0000e+00\n",
      "Epoch 9/50\n",
      "3/3 [==============================] - 0s 3ms/step - loss: 1.1020 - acc: 0.0000e+00\n",
      "Epoch 10/50\n",
      "3/3 [==============================] - 0s 3ms/step - loss: 1.1023 - acc: 0.0000e+00\n",
      "Epoch 11/50\n",
      "3/3 [==============================] - 0s 3ms/step - loss: 1.1007 - acc: 0.0000e+00\n",
      "Epoch 12/50\n",
      "3/3 [==============================] - 0s 3ms/step - loss: 1.0986 - acc: 0.0000e+00\n",
      "Epoch 13/50\n",
      "3/3 [==============================] - 0s 3ms/step - loss: 1.0974 - acc: 0.0000e+00\n",
      "Epoch 14/50\n",
      "3/3 [==============================] - 0s 3ms/step - loss: 1.0955 - acc: 0.0000e+00\n",
      "Epoch 15/50\n",
      "3/3 [==============================] - 0s 3ms/step - loss: 1.0936 - acc: 0.0000e+00\n",
      "Epoch 16/50\n",
      "3/3 [==============================] - 0s 3ms/step - loss: 1.0912 - acc: 0.0000e+00\n",
      "Epoch 17/50\n",
      "3/3 [==============================] - 0s 3ms/step - loss: 1.0890 - acc: 0.0000e+00\n",
      "Epoch 18/50\n",
      "3/3 [==============================] - 0s 3ms/step - loss: 1.0869 - acc: 0.0000e+00\n",
      "Epoch 19/50\n",
      "3/3 [==============================] - 0s 3ms/step - loss: 1.0859 - acc: 0.3333\n",
      "Epoch 20/50\n",
      "3/3 [==============================] - 0s 2ms/step - loss: 1.0834 - acc: 0.3333\n",
      "Epoch 21/50\n",
      "3/3 [==============================] - 0s 4ms/step - loss: 1.0792 - acc: 0.3333\n",
      "Epoch 22/50\n",
      "3/3 [==============================] - 0s 3ms/step - loss: 1.0778 - acc: 0.3333\n",
      "Epoch 23/50\n",
      "3/3 [==============================] - 0s 3ms/step - loss: 1.0741 - acc: 0.3333\n",
      "Epoch 24/50\n",
      "3/3 [==============================] - 0s 3ms/step - loss: 1.0672 - acc: 0.3333\n",
      "Epoch 25/50\n",
      "3/3 [==============================] - 0s 2ms/step - loss: 1.0673 - acc: 0.3333\n",
      "Epoch 26/50\n",
      "3/3 [==============================] - 0s 3ms/step - loss: 1.0619 - acc: 0.3333\n",
      "Epoch 27/50\n",
      "3/3 [==============================] - 0s 3ms/step - loss: 1.0539 - acc: 0.3333\n",
      "Epoch 28/50\n",
      "3/3 [==============================] - 0s 3ms/step - loss: 1.0461 - acc: 0.3333\n",
      "Epoch 29/50\n",
      "3/3 [==============================] - 0s 3ms/step - loss: 1.0414 - acc: 0.3333\n",
      "Epoch 30/50\n",
      "3/3 [==============================] - 0s 3ms/step - loss: 1.0339 - acc: 0.3333\n",
      "Epoch 31/50\n",
      "3/3 [==============================] - 0s 3ms/step - loss: 1.0237 - acc: 0.3333\n",
      "Epoch 32/50\n",
      "3/3 [==============================] - 0s 2ms/step - loss: 1.0162 - acc: 0.3333\n",
      "Epoch 33/50\n",
      "3/3 [==============================] - 0s 2ms/step - loss: 0.9991 - acc: 0.6667\n",
      "Epoch 34/50\n",
      "3/3 [==============================] - 0s 2ms/step - loss: 0.9867 - acc: 0.6667\n",
      "Epoch 35/50\n",
      "3/3 [==============================] - 0s 3ms/step - loss: 0.9871 - acc: 0.3333\n",
      "Epoch 36/50\n",
      "3/3 [==============================] - 0s 2ms/step - loss: 0.9627 - acc: 0.6667\n",
      "Epoch 37/50\n",
      "3/3 [==============================] - 0s 3ms/step - loss: 0.9540 - acc: 0.6667\n",
      "Epoch 38/50\n",
      "3/3 [==============================] - 0s 3ms/step - loss: 0.9455 - acc: 0.6667\n",
      "Epoch 39/50\n",
      "3/3 [==============================] - 0s 3ms/step - loss: 0.9209 - acc: 0.6667\n",
      "Epoch 40/50\n",
      "3/3 [==============================] - 0s 3ms/step - loss: 0.8999 - acc: 0.6667\n",
      "Epoch 41/50\n",
      "3/3 [==============================] - 0s 3ms/step - loss: 0.9081 - acc: 0.3333\n",
      "Epoch 42/50\n",
      "3/3 [==============================] - 0s 3ms/step - loss: 0.8932 - acc: 0.6667\n",
      "Epoch 43/50\n",
      "3/3 [==============================] - 0s 2ms/step - loss: 0.8677 - acc: 0.6667\n",
      "Epoch 44/50\n",
      "3/3 [==============================] - 0s 2ms/step - loss: 0.8614 - acc: 0.6667\n",
      "Epoch 45/50\n",
      "3/3 [==============================] - 0s 2ms/step - loss: 0.8515 - acc: 0.6667\n",
      "Epoch 46/50\n",
      "3/3 [==============================] - 0s 2ms/step - loss: 0.8427 - acc: 0.6667\n",
      "Epoch 47/50\n",
      "3/3 [==============================] - 0s 2ms/step - loss: 0.8279 - acc: 0.6667\n",
      "Epoch 48/50\n",
      "3/3 [==============================] - 0s 2ms/step - loss: 0.8104 - acc: 0.6667\n",
      "Epoch 49/50\n",
      "3/3 [==============================] - 0s 3ms/step - loss: 0.8350 - acc: 0.6667\n",
      "Epoch 50/50\n",
      "3/3 [==============================] - 0s 3ms/step - loss: 0.8174 - acc: 0.6667\n"
     ]
    },
    {
     "output_type": "execute_result",
     "data": {
      "text/plain": [
       "<tensorflow.python.keras.callbacks.History at 0x22cab150be0>"
      ]
     },
     "metadata": {},
     "execution_count": 5
    }
   ],
   "source": [
    "model.fit(xinput, yinput, epochs=50, batch_size=1, verbose=1)"
   ]
  },
  {
   "cell_type": "code",
   "execution_count": 6,
   "metadata": {},
   "outputs": [
    {
     "output_type": "execute_result",
     "data": {
      "text/plain": [
       "array([[1., 2., 3., 4.]])"
      ]
     },
     "metadata": {},
     "execution_count": 6
    }
   ],
   "source": [
    "xinput[:1, :]"
   ]
  },
  {
   "cell_type": "code",
   "execution_count": 6,
   "metadata": {},
   "outputs": [
    {
     "output_type": "stream",
     "name": "stdout",
     "text": [
      "WARNING:tensorflow:From <ipython-input-6-cce6782cc6af>:1: Sequential.predict_classes (from tensorflow.python.keras.engine.sequential) is deprecated and will be removed after 2021-01-01.\nInstructions for updating:\nPlease use instead:* `np.argmax(model.predict(x), axis=-1)`,   if your model does multi-class classification   (e.g. if it uses a `softmax` last-layer activation).* `(model.predict(x) > 0.5).astype(\"int32\")`,   if your model does binary classification   (e.g. if it uses a `sigmoid` last-layer activation).\n"
     ]
    },
    {
     "output_type": "execute_result",
     "data": {
      "text/plain": [
       "array([2], dtype=int64)"
      ]
     },
     "metadata": {},
     "execution_count": 6
    }
   ],
   "source": [
    "model.predict_classes(xinput[:1, :])"
   ]
  },
  {
   "cell_type": "code",
   "execution_count": null,
   "metadata": {},
   "outputs": [],
   "source": [
    "xinput = np.array([[]])"
   ]
  }
 ]
}